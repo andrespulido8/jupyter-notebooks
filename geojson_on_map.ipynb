{
 "cells": [
  {
   "cell_type": "code",
   "execution_count": 1,
   "metadata": {},
   "outputs": [],
   "source": [
    "# Inspiration of this comes from\n",
    "# - https://blog.jupyter.org/interactive-gis-in-jupyter-with-ipyleaflet-52f9657fa7a\n",
    "# - https://ipyleaflet.readthedocs.io/en/latest/installation.html\n",
    "# - https://mybinder.org/v2/gh/jupyter-widgets/ipyleaflet/stable?filepath=examples"
   ]
  },
  {
   "cell_type": "code",
   "execution_count": 2,
   "metadata": {},
   "outputs": [
    {
     "data": {
      "application/vnd.jupyter.widget-view+json": {
       "model_id": "ffa81d42094045d9a3a29cd5ec5f6b80",
       "version_major": 2,
       "version_minor": 0
      },
      "text/plain": [
       "Map(center=[29.4078434989401, -82.16961264610292], controls=(ZoomControl(options=['position', 'zoom_in_text', …"
      ]
     },
     "metadata": {},
     "output_type": "display_data"
    }
   ],
   "source": [
    "#import struct \n",
    "#import numpy as np\n",
    "from matplotlib import pyplot as plt\n",
    "from ipyleaflet import basemaps, Map\n",
    "from ipyleaflet import GeoJSON\n",
    "from ipyleaflet import Map, Marker\n",
    "\n",
    "center = [29.4078434989401, -82.16961264610292]\n",
    "\n",
    "m = Map(center=center, zoom=20)\n",
    "\n",
    "marker = Marker(location=center, draggable=True)\n",
    "m.add_layer(marker);\n",
    "\n",
    "display(m)"
   ]
  },
  {
   "cell_type": "code",
   "execution_count": 3,
   "metadata": {},
   "outputs": [],
   "source": [
    "import sllib\n",
    "def read_into_geojson(input_file):\n",
    "    coords = list()\n",
    "    with open(input_file, 'rb') as f:\n",
    "        reader = sllib.Reader(f)\n",
    "        last = None\n",
    "        for frame in reader:\n",
    "            c = (frame.longitude, frame.latitude)\n",
    "            if c != last:\n",
    "                coords.append(c)\n",
    "                last = c\n",
    "\n",
    "    line = dict(type='Feature',\n",
    "                geometry=dict(type='LineString', coordinates=coords),\n",
    "                properties=dict())\n",
    "    data = dict(type='FeatureCollection', features=[line])\n",
    "    return data"
   ]
  },
  {
   "cell_type": "code",
   "execution_count": 4,
   "metadata": {
    "tags": []
   },
   "outputs": [
    {
     "name": "stdout",
     "output_type": "stream",
     "text": [
      "10503\n"
     ]
    }
   ],
   "source": [
    "data = read_into_geojson('./sample-data-lowrance/Sonar_2021-10-16_13.29.36.sl2')\n",
    "#data['features'][0]['geometry']['coordinates'] = data['features'][0]['geometry']['coordinates'][4600:4700]\n",
    "g = GeoJSON(data=data)\n",
    "\n",
    "m.add_layer(g)\n",
    "print(len(g.data['features'][0]['geometry']['coordinates']))"
   ]
  },
  {
   "cell_type": "code",
   "execution_count": 113,
   "metadata": {},
   "outputs": [
    {
     "name": "stdout",
     "output_type": "stream",
     "text": [
      "[29.4078434989401, -82.16961264610292]\n"
     ]
    }
   ],
   "source": [
    "print(marker.location)"
   ]
  },
  {
   "cell_type": "code",
   "execution_count": null,
   "metadata": {},
   "outputs": [],
   "source": []
  }
 ],
 "metadata": {
  "kernelspec": {
   "display_name": "Python 3 (ipykernel)",
   "language": "python",
   "name": "python3"
  },
  "language_info": {
   "codemirror_mode": {
    "name": "ipython",
    "version": 3
   },
   "file_extension": ".py",
   "mimetype": "text/x-python",
   "name": "python",
   "nbconvert_exporter": "python",
   "pygments_lexer": "ipython3",
   "version": "3.9.7"
  }
 },
 "nbformat": 4,
 "nbformat_minor": 4
}
