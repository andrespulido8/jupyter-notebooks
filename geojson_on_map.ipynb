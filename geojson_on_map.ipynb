{
 "cells": [
  {
   "cell_type": "code",
   "execution_count": 8,
   "metadata": {},
   "outputs": [],
   "source": [
    "# Inspiration of this comes from\n",
    "# - https://blog.jupyter.org/interactive-gis-in-jupyter-with-ipyleaflet-52f9657fa7a\n",
    "# - https://ipyleaflet.readthedocs.io/en/latest/installation.html\n",
    "# - https://mybinder.org/v2/gh/jupyter-widgets/ipyleaflet/stable?filepath=examples"
   ]
  },
  {
   "cell_type": "code",
   "execution_count": 1,
   "metadata": {},
   "outputs": [
    {
     "data": {
      "application/vnd.jupyter.widget-view+json": {
       "model_id": "3d30b09c39d64c85a11c649110f82f70",
       "version_major": 2,
       "version_minor": 0
      },
      "text/plain": [
       "Map(center=[58.97131777256674, 12.465834660957917], controls=(ZoomControl(options=['position', 'zoom_in_text',…"
      ]
     },
     "metadata": {},
     "output_type": "display_data"
    }
   ],
   "source": [
    "\n",
    "#import struct \n",
    "#import numpy as np\n",
    "from matplotlib import pyplot as plt\n",
    "from ipyleaflet import basemaps, Map\n",
    "\n",
    "\n",
    "\n",
    "from ipyleaflet import Map, Marker\n",
    "\n",
    "center = [58.97131777256674, 12.465834660957917]\n",
    "\n",
    "m = Map(center=center, zoom=15)\n",
    "\n",
    "marker = Marker(location=center, draggable=True)\n",
    "m.add_layer(marker);\n",
    "\n",
    "display(m)"
   ]
  },
  {
   "cell_type": "code",
   "execution_count": 2,
   "metadata": {},
   "outputs": [],
   "source": [
    "import sllib\n",
    "def read_into_geojson(input_file):\n",
    "    coords = list()\n",
    "    with open(input_file, 'rb') as f:\n",
    "        reader = sllib.Reader(f)\n",
    "        last = None\n",
    "        for frame in reader:\n",
    "            c = (frame.longitude, frame.latitude)\n",
    "            if c != last:\n",
    "                coords.append(c)\n",
    "                last = c\n",
    "\n",
    "    line = dict(type='Feature',\n",
    "                geometry=dict(type='LineString', coordinates=coords),\n",
    "                properties=dict())\n",
    "    data = dict(type='FeatureCollection', features=[line])\n",
    "    return data"
   ]
  },
  {
   "cell_type": "code",
   "execution_count": 3,
   "metadata": {},
   "outputs": [],
   "source": [
    "from ipyleaflet import GeoJSON\n",
    "g = GeoJSON(data=read_into_geojson('./sample-data-lowrance/Elite_4_Chirp/small.sl2'))\n",
    "m.add_layer(g)"
   ]
  },
  {
   "cell_type": "code",
   "execution_count": null,
   "metadata": {},
   "outputs": [],
   "source": []
  },
  {
   "cell_type": "code",
   "execution_count": null,
   "metadata": {},
   "outputs": [],
   "source": []
  }
 ],
 "metadata": {
  "kernelspec": {
   "display_name": "Python 3",
   "language": "python",
   "name": "python3"
  },
  "language_info": {
   "codemirror_mode": {
    "name": "ipython",
    "version": 3
   },
   "file_extension": ".py",
   "mimetype": "text/x-python",
   "name": "python",
   "nbconvert_exporter": "python",
   "pygments_lexer": "ipython3",
   "version": "3.8.8"
  }
 },
 "nbformat": 4,
 "nbformat_minor": 4
}
