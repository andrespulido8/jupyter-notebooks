{
 "cells": [
  {
   "cell_type": "code",
   "execution_count": 1,
   "metadata": {},
   "outputs": [],
   "source": [
    "# Inspiration of this comes from\n",
    "# - https://github.com/Neumi/3D_water_depth_logger\n",
    "# TODO: Shoreline\n",
    "# TODO: Offsets for tidal effects where applicable\n",
    "# TODO: Lots more"
   ]
  },
  {
   "cell_type": "code",
   "execution_count": 48,
   "metadata": {},
   "outputs": [],
   "source": [
    "from helpers import read_xyz\n",
    "x, y, z = read_into_xyz('./sample-data-lowrance/Elite_4_Chirp/bigger.sl2')\n",
    "\n",
    "latmin = min(x)\n",
    "latmax = max(x)\n",
    "lonmin = min(y)\n",
    "lonmax = max(y)\n"
   ]
  },
  {
   "cell_type": "code",
   "execution_count": 51,
   "metadata": {},
   "outputs": [
    {
     "data": {
      "application/vnd.jupyter.widget-view+json": {
       "model_id": "829f487504ee416ab84246098ab88d03",
       "version_major": 2,
       "version_minor": 0
      },
      "text/plain": [
       "Canvas(toolbar=Toolbar(toolitems=[('Home', 'Reset original view', 'home', 'home'), ('Back', 'Back to previous …"
      ]
     },
     "metadata": {},
     "output_type": "display_data"
    }
   ],
   "source": [
    "%matplotlib widget\n",
    "\n",
    "# imports for plotting and triangulation\n",
    "from matplotlib import pyplot as plt\n",
    "import numpy as np\n",
    "import matplotlib.tri as tri\n",
    "npts = len(x)\n",
    "ngridx = npts\n",
    "ngridy = npts\n",
    "\n",
    "fig, ax = plt.subplots()\n",
    "\n",
    "xi = np.linspace(latmin, latmax, ngridx)\n",
    "yi = np.linspace(lonmin, lonmax, ngridy)\n",
    "\n",
    "triang = tri.Triangulation(x, y)\n",
    "interpolator = tri.LinearTriInterpolator(triang, z)\n",
    "Xi, Yi = np.meshgrid(xi, yi)\n",
    "zi = interpolator(Xi, Yi)\n",
    "\n",
    "ax.contour(xi, yi, zi, levels=20, linewidths=0.2, colors='k')\n",
    "cntr1 = ax.contourf(xi, yi, zi, levels=20, cmap=\"gist_rainbow\")  # RdBu_r\n",
    "\n",
    "fig.colorbar(cntr1, ax=ax, orientation=\"horizontal\").set_label(\"Depth in m\")\n",
    "ax.plot(x, y, 'ko', ms=0.5)\n",
    "ax.set(xlim=(latmin, latmax), ylim=(lonmin, lonmax))\n",
    "ax.set_title(\"Depth Map Sample\")\n",
    "ax.ticklabel_format(useOffset=False)\n",
    "\n",
    "import math\n",
    "ax.set_aspect(1 / math.cos(math.radians(60.0)))\n",
    "\n",
    "plt.savefig(\"depthmap.png\", dpi=220)\n",
    "plt.show()"
   ]
  },
  {
   "cell_type": "code",
   "execution_count": null,
   "metadata": {},
   "outputs": [],
   "source": []
  }
 ],
 "metadata": {
  "kernelspec": {
   "display_name": "Python 3",
   "language": "python",
   "name": "python3"
  },
  "language_info": {
   "codemirror_mode": {
    "name": "ipython",
    "version": 3
   },
   "file_extension": ".py",
   "mimetype": "text/x-python",
   "name": "python",
   "nbconvert_exporter": "python",
   "pygments_lexer": "ipython3",
   "version": "3.8.8"
  }
 },
 "nbformat": 4,
 "nbformat_minor": 4
}
